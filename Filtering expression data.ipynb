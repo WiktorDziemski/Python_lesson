{
 "cells": [
  {
   "cell_type": "code",
   "execution_count": 44,
   "id": "cceaf1c8",
   "metadata": {},
   "outputs": [],
   "source": [
    "import urllib.request\n",
    "import pandas as pd\n",
    "import matplotlib.pyplot as plt"
   ]
  },
  {
   "cell_type": "code",
   "execution_count": 4,
   "id": "924977be",
   "metadata": {},
   "outputs": [],
   "source": [
    "source_url = \"https://github.com/foerstner-lab/Bits_and_pieces_for_the_carpentries_workshops/blob/main/python/Expression_data.csv?raw=true\""
   ]
  },
  {
   "cell_type": "code",
   "execution_count": 5,
   "id": "e8b10127",
   "metadata": {},
   "outputs": [
    {
     "data": {
      "text/plain": [
       "('Expression_data.csv', <http.client.HTTPMessage at 0x2522984d280>)"
      ]
     },
     "execution_count": 5,
     "metadata": {},
     "output_type": "execute_result"
    }
   ],
   "source": [
    "expresion_file_name = \"Expression_data.csv\"\n",
    "urllib.request.urlretrieve(source_url, expresion_file_name)"
   ]
  },
  {
   "cell_type": "code",
   "execution_count": 8,
   "id": "b64fe32f",
   "metadata": {},
   "outputs": [],
   "source": [
    "expression_df = pd.read_csv(expresion_file_name, sep=\"\\t\", comment=\"#\")"
   ]
  },
  {
   "cell_type": "code",
   "execution_count": 9,
   "id": "7bdd81e1",
   "metadata": {},
   "outputs": [
    {
     "data": {
      "text/html": [
       "<div>\n",
       "<style scoped>\n",
       "    .dataframe tbody tr th:only-of-type {\n",
       "        vertical-align: middle;\n",
       "    }\n",
       "\n",
       "    .dataframe tbody tr th {\n",
       "        vertical-align: top;\n",
       "    }\n",
       "\n",
       "    .dataframe thead th {\n",
       "        text-align: right;\n",
       "    }\n",
       "</style>\n",
       "<table border=\"1\" class=\"dataframe\">\n",
       "  <thead>\n",
       "    <tr style=\"text-align: right;\">\n",
       "      <th></th>\n",
       "      <th>ENSEMBL_Gene_ID</th>\n",
       "      <th>fold_change</th>\n",
       "      <th>adjusted_p_value</th>\n",
       "      <th>gene_length</th>\n",
       "      <th>chromosome</th>\n",
       "    </tr>\n",
       "  </thead>\n",
       "  <tbody>\n",
       "    <tr>\n",
       "      <th>0</th>\n",
       "      <td>ENSG0000000001</td>\n",
       "      <td>0.657286</td>\n",
       "      <td>0.6140</td>\n",
       "      <td>5309</td>\n",
       "      <td>Chr1</td>\n",
       "    </tr>\n",
       "    <tr>\n",
       "      <th>1</th>\n",
       "      <td>ENSG0000000002</td>\n",
       "      <td>1.979508</td>\n",
       "      <td>0.6143</td>\n",
       "      <td>4715</td>\n",
       "      <td>Chr15</td>\n",
       "    </tr>\n",
       "    <tr>\n",
       "      <th>2</th>\n",
       "      <td>ENSG0000000003</td>\n",
       "      <td>0.832126</td>\n",
       "      <td>0.5059</td>\n",
       "      <td>59776</td>\n",
       "      <td>Chr19</td>\n",
       "    </tr>\n",
       "    <tr>\n",
       "      <th>3</th>\n",
       "      <td>ENSG0000000004</td>\n",
       "      <td>7.563977</td>\n",
       "      <td>0.6449</td>\n",
       "      <td>93807</td>\n",
       "      <td>Chr16</td>\n",
       "    </tr>\n",
       "    <tr>\n",
       "      <th>4</th>\n",
       "      <td>ENSG0000000005</td>\n",
       "      <td>0.443289</td>\n",
       "      <td>0.2473</td>\n",
       "      <td>41666</td>\n",
       "      <td>Chr12</td>\n",
       "    </tr>\n",
       "    <tr>\n",
       "      <th>...</th>\n",
       "      <td>...</td>\n",
       "      <td>...</td>\n",
       "      <td>...</td>\n",
       "      <td>...</td>\n",
       "      <td>...</td>\n",
       "    </tr>\n",
       "    <tr>\n",
       "      <th>29995</th>\n",
       "      <td>ENSG0000029996</td>\n",
       "      <td>-1.989543</td>\n",
       "      <td>0.6819</td>\n",
       "      <td>58093</td>\n",
       "      <td>Chr23</td>\n",
       "    </tr>\n",
       "    <tr>\n",
       "      <th>29996</th>\n",
       "      <td>ENSG0000029997</td>\n",
       "      <td>4.061625</td>\n",
       "      <td>0.9718</td>\n",
       "      <td>121201</td>\n",
       "      <td>Chr22</td>\n",
       "    </tr>\n",
       "    <tr>\n",
       "      <th>29997</th>\n",
       "      <td>ENSG0000029998</td>\n",
       "      <td>2.743269</td>\n",
       "      <td>0.1769</td>\n",
       "      <td>50833</td>\n",
       "      <td>Chr3</td>\n",
       "    </tr>\n",
       "    <tr>\n",
       "      <th>29998</th>\n",
       "      <td>ENSG0000029999</td>\n",
       "      <td>5.664540</td>\n",
       "      <td>0.7852</td>\n",
       "      <td>115897</td>\n",
       "      <td>Chr1</td>\n",
       "    </tr>\n",
       "    <tr>\n",
       "      <th>29999</th>\n",
       "      <td>ENSG0000030000</td>\n",
       "      <td>-8.414128</td>\n",
       "      <td>0.7942</td>\n",
       "      <td>4180</td>\n",
       "      <td>Chr8</td>\n",
       "    </tr>\n",
       "  </tbody>\n",
       "</table>\n",
       "<p>30000 rows × 5 columns</p>\n",
       "</div>"
      ],
      "text/plain": [
       "      ENSEMBL_Gene_ID  fold_change  adjusted_p_value  gene_length chromosome\n",
       "0      ENSG0000000001     0.657286            0.6140         5309       Chr1\n",
       "1      ENSG0000000002     1.979508            0.6143         4715      Chr15\n",
       "2      ENSG0000000003     0.832126            0.5059        59776      Chr19\n",
       "3      ENSG0000000004     7.563977            0.6449        93807      Chr16\n",
       "4      ENSG0000000005     0.443289            0.2473        41666      Chr12\n",
       "...               ...          ...               ...          ...        ...\n",
       "29995  ENSG0000029996    -1.989543            0.6819        58093      Chr23\n",
       "29996  ENSG0000029997     4.061625            0.9718       121201      Chr22\n",
       "29997  ENSG0000029998     2.743269            0.1769        50833       Chr3\n",
       "29998  ENSG0000029999     5.664540            0.7852       115897       Chr1\n",
       "29999  ENSG0000030000    -8.414128            0.7942         4180       Chr8\n",
       "\n",
       "[30000 rows x 5 columns]"
      ]
     },
     "execution_count": 9,
     "metadata": {},
     "output_type": "execute_result"
    }
   ],
   "source": [
    "expression_df"
   ]
  },
  {
   "cell_type": "code",
   "execution_count": 10,
   "id": "698d5469",
   "metadata": {},
   "outputs": [
    {
     "data": {
      "text/html": [
       "<div>\n",
       "<style scoped>\n",
       "    .dataframe tbody tr th:only-of-type {\n",
       "        vertical-align: middle;\n",
       "    }\n",
       "\n",
       "    .dataframe tbody tr th {\n",
       "        vertical-align: top;\n",
       "    }\n",
       "\n",
       "    .dataframe thead th {\n",
       "        text-align: right;\n",
       "    }\n",
       "</style>\n",
       "<table border=\"1\" class=\"dataframe\">\n",
       "  <thead>\n",
       "    <tr style=\"text-align: right;\">\n",
       "      <th></th>\n",
       "      <th>fold_change</th>\n",
       "      <th>adjusted_p_value</th>\n",
       "      <th>gene_length</th>\n",
       "    </tr>\n",
       "  </thead>\n",
       "  <tbody>\n",
       "    <tr>\n",
       "      <th>count</th>\n",
       "      <td>30000.000000</td>\n",
       "      <td>30000.000000</td>\n",
       "      <td>30000.000000</td>\n",
       "    </tr>\n",
       "    <tr>\n",
       "      <th>mean</th>\n",
       "      <td>0.032697</td>\n",
       "      <td>0.500303</td>\n",
       "      <td>39994.516467</td>\n",
       "    </tr>\n",
       "    <tr>\n",
       "      <th>std</th>\n",
       "      <td>5.015792</td>\n",
       "      <td>0.288726</td>\n",
       "      <td>30304.229618</td>\n",
       "    </tr>\n",
       "    <tr>\n",
       "      <th>min</th>\n",
       "      <td>-19.100452</td>\n",
       "      <td>0.000000</td>\n",
       "      <td>1.000000</td>\n",
       "    </tr>\n",
       "    <tr>\n",
       "      <th>25%</th>\n",
       "      <td>-3.354434</td>\n",
       "      <td>0.250500</td>\n",
       "      <td>15847.000000</td>\n",
       "    </tr>\n",
       "    <tr>\n",
       "      <th>50%</th>\n",
       "      <td>0.016639</td>\n",
       "      <td>0.500400</td>\n",
       "      <td>33529.000000</td>\n",
       "    </tr>\n",
       "    <tr>\n",
       "      <th>75%</th>\n",
       "      <td>3.388799</td>\n",
       "      <td>0.750300</td>\n",
       "      <td>58118.250000</td>\n",
       "    </tr>\n",
       "    <tr>\n",
       "      <th>max</th>\n",
       "      <td>21.415546</td>\n",
       "      <td>0.999900</td>\n",
       "      <td>184254.000000</td>\n",
       "    </tr>\n",
       "  </tbody>\n",
       "</table>\n",
       "</div>"
      ],
      "text/plain": [
       "        fold_change  adjusted_p_value    gene_length\n",
       "count  30000.000000      30000.000000   30000.000000\n",
       "mean       0.032697          0.500303   39994.516467\n",
       "std        5.015792          0.288726   30304.229618\n",
       "min      -19.100452          0.000000       1.000000\n",
       "25%       -3.354434          0.250500   15847.000000\n",
       "50%        0.016639          0.500400   33529.000000\n",
       "75%        3.388799          0.750300   58118.250000\n",
       "max       21.415546          0.999900  184254.000000"
      ]
     },
     "execution_count": 10,
     "metadata": {},
     "output_type": "execute_result"
    }
   ],
   "source": [
    "expression_df.describe()"
   ]
  },
  {
   "cell_type": "code",
   "execution_count": 11,
   "id": "600ef452",
   "metadata": {},
   "outputs": [
    {
     "data": {
      "text/plain": [
       "pandas.core.frame.DataFrame"
      ]
     },
     "execution_count": 11,
     "metadata": {},
     "output_type": "execute_result"
    }
   ],
   "source": [
    "type(expression_df)"
   ]
  },
  {
   "cell_type": "code",
   "execution_count": 12,
   "id": "0d463d79",
   "metadata": {
    "scrolled": true
   },
   "outputs": [
    {
     "data": {
      "text/plain": [
       "0        0.657286\n",
       "1        1.979508\n",
       "2        0.832126\n",
       "3        7.563977\n",
       "4        0.443289\n",
       "           ...   \n",
       "29995   -1.989543\n",
       "29996    4.061625\n",
       "29997    2.743269\n",
       "29998    5.664540\n",
       "29999   -8.414128\n",
       "Name: fold_change, Length: 30000, dtype: float64"
      ]
     },
     "execution_count": 12,
     "metadata": {},
     "output_type": "execute_result"
    }
   ],
   "source": [
    "expression_df[\"fold_change\"]"
   ]
  },
  {
   "cell_type": "code",
   "execution_count": 13,
   "id": "8683e401",
   "metadata": {},
   "outputs": [
    {
     "data": {
      "text/plain": [
       "pandas.core.series.Series"
      ]
     },
     "execution_count": 13,
     "metadata": {},
     "output_type": "execute_result"
    }
   ],
   "source": [
    "type(expression_df[[\"fold_change\"])"
   ]
  },
  {
   "cell_type": "code",
   "execution_count": 14,
   "id": "25f00cb5",
   "metadata": {
    "scrolled": true
   },
   "outputs": [
    {
     "data": {
      "text/html": [
       "<div>\n",
       "<style scoped>\n",
       "    .dataframe tbody tr th:only-of-type {\n",
       "        vertical-align: middle;\n",
       "    }\n",
       "\n",
       "    .dataframe tbody tr th {\n",
       "        vertical-align: top;\n",
       "    }\n",
       "\n",
       "    .dataframe thead th {\n",
       "        text-align: right;\n",
       "    }\n",
       "</style>\n",
       "<table border=\"1\" class=\"dataframe\">\n",
       "  <thead>\n",
       "    <tr style=\"text-align: right;\">\n",
       "      <th></th>\n",
       "      <th>ENSEMBL_Gene_ID</th>\n",
       "      <th>fold_change</th>\n",
       "    </tr>\n",
       "  </thead>\n",
       "  <tbody>\n",
       "    <tr>\n",
       "      <th>0</th>\n",
       "      <td>ENSG0000000001</td>\n",
       "      <td>0.657286</td>\n",
       "    </tr>\n",
       "    <tr>\n",
       "      <th>1</th>\n",
       "      <td>ENSG0000000002</td>\n",
       "      <td>1.979508</td>\n",
       "    </tr>\n",
       "    <tr>\n",
       "      <th>2</th>\n",
       "      <td>ENSG0000000003</td>\n",
       "      <td>0.832126</td>\n",
       "    </tr>\n",
       "    <tr>\n",
       "      <th>3</th>\n",
       "      <td>ENSG0000000004</td>\n",
       "      <td>7.563977</td>\n",
       "    </tr>\n",
       "    <tr>\n",
       "      <th>4</th>\n",
       "      <td>ENSG0000000005</td>\n",
       "      <td>0.443289</td>\n",
       "    </tr>\n",
       "    <tr>\n",
       "      <th>...</th>\n",
       "      <td>...</td>\n",
       "      <td>...</td>\n",
       "    </tr>\n",
       "    <tr>\n",
       "      <th>29995</th>\n",
       "      <td>ENSG0000029996</td>\n",
       "      <td>-1.989543</td>\n",
       "    </tr>\n",
       "    <tr>\n",
       "      <th>29996</th>\n",
       "      <td>ENSG0000029997</td>\n",
       "      <td>4.061625</td>\n",
       "    </tr>\n",
       "    <tr>\n",
       "      <th>29997</th>\n",
       "      <td>ENSG0000029998</td>\n",
       "      <td>2.743269</td>\n",
       "    </tr>\n",
       "    <tr>\n",
       "      <th>29998</th>\n",
       "      <td>ENSG0000029999</td>\n",
       "      <td>5.664540</td>\n",
       "    </tr>\n",
       "    <tr>\n",
       "      <th>29999</th>\n",
       "      <td>ENSG0000030000</td>\n",
       "      <td>-8.414128</td>\n",
       "    </tr>\n",
       "  </tbody>\n",
       "</table>\n",
       "<p>30000 rows × 2 columns</p>\n",
       "</div>"
      ],
      "text/plain": [
       "      ENSEMBL_Gene_ID  fold_change\n",
       "0      ENSG0000000001     0.657286\n",
       "1      ENSG0000000002     1.979508\n",
       "2      ENSG0000000003     0.832126\n",
       "3      ENSG0000000004     7.563977\n",
       "4      ENSG0000000005     0.443289\n",
       "...               ...          ...\n",
       "29995  ENSG0000029996    -1.989543\n",
       "29996  ENSG0000029997     4.061625\n",
       "29997  ENSG0000029998     2.743269\n",
       "29998  ENSG0000029999     5.664540\n",
       "29999  ENSG0000030000    -8.414128\n",
       "\n",
       "[30000 rows x 2 columns]"
      ]
     },
     "execution_count": 14,
     "metadata": {},
     "output_type": "execute_result"
    }
   ],
   "source": [
    "expression_df[[\"ENSEMBL_Gene_ID\",\"fold_change\"] ]"
   ]
  },
  {
   "cell_type": "code",
   "execution_count": 15,
   "id": "0add80dc",
   "metadata": {},
   "outputs": [],
   "source": [
    "expr_col = expression_df[[\"ENSEMBL_Gene_ID\",\"fold_change\"] ]"
   ]
  },
  {
   "cell_type": "code",
   "execution_count": 16,
   "id": "dfc295b3",
   "metadata": {},
   "outputs": [
    {
     "data": {
      "text/html": [
       "<div>\n",
       "<style scoped>\n",
       "    .dataframe tbody tr th:only-of-type {\n",
       "        vertical-align: middle;\n",
       "    }\n",
       "\n",
       "    .dataframe tbody tr th {\n",
       "        vertical-align: top;\n",
       "    }\n",
       "\n",
       "    .dataframe thead th {\n",
       "        text-align: right;\n",
       "    }\n",
       "</style>\n",
       "<table border=\"1\" class=\"dataframe\">\n",
       "  <thead>\n",
       "    <tr style=\"text-align: right;\">\n",
       "      <th></th>\n",
       "      <th>ENSEMBL_Gene_ID</th>\n",
       "      <th>fold_change</th>\n",
       "    </tr>\n",
       "  </thead>\n",
       "  <tbody>\n",
       "    <tr>\n",
       "      <th>0</th>\n",
       "      <td>ENSG0000000001</td>\n",
       "      <td>0.657286</td>\n",
       "    </tr>\n",
       "    <tr>\n",
       "      <th>1</th>\n",
       "      <td>ENSG0000000002</td>\n",
       "      <td>1.979508</td>\n",
       "    </tr>\n",
       "    <tr>\n",
       "      <th>2</th>\n",
       "      <td>ENSG0000000003</td>\n",
       "      <td>0.832126</td>\n",
       "    </tr>\n",
       "    <tr>\n",
       "      <th>3</th>\n",
       "      <td>ENSG0000000004</td>\n",
       "      <td>7.563977</td>\n",
       "    </tr>\n",
       "    <tr>\n",
       "      <th>4</th>\n",
       "      <td>ENSG0000000005</td>\n",
       "      <td>0.443289</td>\n",
       "    </tr>\n",
       "    <tr>\n",
       "      <th>...</th>\n",
       "      <td>...</td>\n",
       "      <td>...</td>\n",
       "    </tr>\n",
       "    <tr>\n",
       "      <th>29995</th>\n",
       "      <td>ENSG0000029996</td>\n",
       "      <td>-1.989543</td>\n",
       "    </tr>\n",
       "    <tr>\n",
       "      <th>29996</th>\n",
       "      <td>ENSG0000029997</td>\n",
       "      <td>4.061625</td>\n",
       "    </tr>\n",
       "    <tr>\n",
       "      <th>29997</th>\n",
       "      <td>ENSG0000029998</td>\n",
       "      <td>2.743269</td>\n",
       "    </tr>\n",
       "    <tr>\n",
       "      <th>29998</th>\n",
       "      <td>ENSG0000029999</td>\n",
       "      <td>5.664540</td>\n",
       "    </tr>\n",
       "    <tr>\n",
       "      <th>29999</th>\n",
       "      <td>ENSG0000030000</td>\n",
       "      <td>-8.414128</td>\n",
       "    </tr>\n",
       "  </tbody>\n",
       "</table>\n",
       "<p>30000 rows × 2 columns</p>\n",
       "</div>"
      ],
      "text/plain": [
       "      ENSEMBL_Gene_ID  fold_change\n",
       "0      ENSG0000000001     0.657286\n",
       "1      ENSG0000000002     1.979508\n",
       "2      ENSG0000000003     0.832126\n",
       "3      ENSG0000000004     7.563977\n",
       "4      ENSG0000000005     0.443289\n",
       "...               ...          ...\n",
       "29995  ENSG0000029996    -1.989543\n",
       "29996  ENSG0000029997     4.061625\n",
       "29997  ENSG0000029998     2.743269\n",
       "29998  ENSG0000029999     5.664540\n",
       "29999  ENSG0000030000    -8.414128\n",
       "\n",
       "[30000 rows x 2 columns]"
      ]
     },
     "execution_count": 16,
     "metadata": {},
     "output_type": "execute_result"
    }
   ],
   "source": [
    "expr_col"
   ]
  },
  {
   "cell_type": "code",
   "execution_count": 18,
   "id": "71535ee0",
   "metadata": {},
   "outputs": [],
   "source": [
    "express_sign = expression_df [ expression_df[\"adjusted_p_value\"] < 0.05 ]"
   ]
  },
  {
   "cell_type": "code",
   "execution_count": 19,
   "id": "2cc79550",
   "metadata": {},
   "outputs": [
    {
     "data": {
      "text/html": [
       "<div>\n",
       "<style scoped>\n",
       "    .dataframe tbody tr th:only-of-type {\n",
       "        vertical-align: middle;\n",
       "    }\n",
       "\n",
       "    .dataframe tbody tr th {\n",
       "        vertical-align: top;\n",
       "    }\n",
       "\n",
       "    .dataframe thead th {\n",
       "        text-align: right;\n",
       "    }\n",
       "</style>\n",
       "<table border=\"1\" class=\"dataframe\">\n",
       "  <thead>\n",
       "    <tr style=\"text-align: right;\">\n",
       "      <th></th>\n",
       "      <th>ENSEMBL_Gene_ID</th>\n",
       "      <th>fold_change</th>\n",
       "      <th>adjusted_p_value</th>\n",
       "      <th>gene_length</th>\n",
       "      <th>chromosome</th>\n",
       "    </tr>\n",
       "  </thead>\n",
       "  <tbody>\n",
       "    <tr>\n",
       "      <th>21</th>\n",
       "      <td>ENSG0000000022</td>\n",
       "      <td>1.843088</td>\n",
       "      <td>0.0234</td>\n",
       "      <td>71599</td>\n",
       "      <td>Chr7</td>\n",
       "    </tr>\n",
       "    <tr>\n",
       "      <th>32</th>\n",
       "      <td>ENSG0000000033</td>\n",
       "      <td>3.615862</td>\n",
       "      <td>0.0073</td>\n",
       "      <td>39546</td>\n",
       "      <td>Chr15</td>\n",
       "    </tr>\n",
       "    <tr>\n",
       "      <th>40</th>\n",
       "      <td>ENSG0000000041</td>\n",
       "      <td>-1.311343</td>\n",
       "      <td>0.0246</td>\n",
       "      <td>36251</td>\n",
       "      <td>Chr11</td>\n",
       "    </tr>\n",
       "    <tr>\n",
       "      <th>44</th>\n",
       "      <td>ENSG0000000045</td>\n",
       "      <td>1.031209</td>\n",
       "      <td>0.0465</td>\n",
       "      <td>22517</td>\n",
       "      <td>Chr22</td>\n",
       "    </tr>\n",
       "    <tr>\n",
       "      <th>52</th>\n",
       "      <td>ENSG0000000053</td>\n",
       "      <td>4.514721</td>\n",
       "      <td>0.0192</td>\n",
       "      <td>22870</td>\n",
       "      <td>Chr20</td>\n",
       "    </tr>\n",
       "    <tr>\n",
       "      <th>...</th>\n",
       "      <td>...</td>\n",
       "      <td>...</td>\n",
       "      <td>...</td>\n",
       "      <td>...</td>\n",
       "      <td>...</td>\n",
       "    </tr>\n",
       "    <tr>\n",
       "      <th>29927</th>\n",
       "      <td>ENSG0000029928</td>\n",
       "      <td>9.581863</td>\n",
       "      <td>0.0214</td>\n",
       "      <td>26529</td>\n",
       "      <td>Chr13</td>\n",
       "    </tr>\n",
       "    <tr>\n",
       "      <th>29931</th>\n",
       "      <td>ENSG0000029932</td>\n",
       "      <td>3.969896</td>\n",
       "      <td>0.0031</td>\n",
       "      <td>16546</td>\n",
       "      <td>Chr20</td>\n",
       "    </tr>\n",
       "    <tr>\n",
       "      <th>29939</th>\n",
       "      <td>ENSG0000029940</td>\n",
       "      <td>2.068000</td>\n",
       "      <td>0.0087</td>\n",
       "      <td>4879</td>\n",
       "      <td>Chr3</td>\n",
       "    </tr>\n",
       "    <tr>\n",
       "      <th>29969</th>\n",
       "      <td>ENSG0000029970</td>\n",
       "      <td>2.674906</td>\n",
       "      <td>0.0400</td>\n",
       "      <td>12226</td>\n",
       "      <td>Chr4</td>\n",
       "    </tr>\n",
       "    <tr>\n",
       "      <th>29976</th>\n",
       "      <td>ENSG0000029977</td>\n",
       "      <td>4.045632</td>\n",
       "      <td>0.0166</td>\n",
       "      <td>7287</td>\n",
       "      <td>Chr9</td>\n",
       "    </tr>\n",
       "  </tbody>\n",
       "</table>\n",
       "<p>1466 rows × 5 columns</p>\n",
       "</div>"
      ],
      "text/plain": [
       "      ENSEMBL_Gene_ID  fold_change  adjusted_p_value  gene_length chromosome\n",
       "21     ENSG0000000022     1.843088            0.0234        71599       Chr7\n",
       "32     ENSG0000000033     3.615862            0.0073        39546      Chr15\n",
       "40     ENSG0000000041    -1.311343            0.0246        36251      Chr11\n",
       "44     ENSG0000000045     1.031209            0.0465        22517      Chr22\n",
       "52     ENSG0000000053     4.514721            0.0192        22870      Chr20\n",
       "...               ...          ...               ...          ...        ...\n",
       "29927  ENSG0000029928     9.581863            0.0214        26529      Chr13\n",
       "29931  ENSG0000029932     3.969896            0.0031        16546      Chr20\n",
       "29939  ENSG0000029940     2.068000            0.0087         4879       Chr3\n",
       "29969  ENSG0000029970     2.674906            0.0400        12226       Chr4\n",
       "29976  ENSG0000029977     4.045632            0.0166         7287       Chr9\n",
       "\n",
       "[1466 rows x 5 columns]"
      ]
     },
     "execution_count": 19,
     "metadata": {},
     "output_type": "execute_result"
    }
   ],
   "source": [
    "express_sign"
   ]
  },
  {
   "cell_type": "code",
   "execution_count": 26,
   "id": "63d582e6",
   "metadata": {},
   "outputs": [],
   "source": [
    "express_sign_chr1 = expression_df[ (expression_df[\"adjusted_p_value\"] < 0.05) &\n",
    "                                  (expression_df[\"chromosome\"] == \"Chr1\")]"
   ]
  },
  {
   "cell_type": "code",
   "execution_count": 24,
   "id": "00c83a64",
   "metadata": {},
   "outputs": [
    {
     "data": {
      "text/html": [
       "<div>\n",
       "<style scoped>\n",
       "    .dataframe tbody tr th:only-of-type {\n",
       "        vertical-align: middle;\n",
       "    }\n",
       "\n",
       "    .dataframe tbody tr th {\n",
       "        vertical-align: top;\n",
       "    }\n",
       "\n",
       "    .dataframe thead th {\n",
       "        text-align: right;\n",
       "    }\n",
       "</style>\n",
       "<table border=\"1\" class=\"dataframe\">\n",
       "  <thead>\n",
       "    <tr style=\"text-align: right;\">\n",
       "      <th></th>\n",
       "      <th>ENSEMBL_Gene_ID</th>\n",
       "      <th>fold_change</th>\n",
       "      <th>adjusted_p_value</th>\n",
       "      <th>gene_length</th>\n",
       "      <th>chromosome</th>\n",
       "    </tr>\n",
       "  </thead>\n",
       "  <tbody>\n",
       "    <tr>\n",
       "      <th>1309</th>\n",
       "      <td>ENSG0000001310</td>\n",
       "      <td>0.115136</td>\n",
       "      <td>0.0306</td>\n",
       "      <td>37390</td>\n",
       "      <td>Chr1</td>\n",
       "    </tr>\n",
       "    <tr>\n",
       "      <th>3007</th>\n",
       "      <td>ENSG0000003008</td>\n",
       "      <td>-0.769307</td>\n",
       "      <td>0.0058</td>\n",
       "      <td>45340</td>\n",
       "      <td>Chr1</td>\n",
       "    </tr>\n",
       "    <tr>\n",
       "      <th>3858</th>\n",
       "      <td>ENSG0000003859</td>\n",
       "      <td>2.683529</td>\n",
       "      <td>0.0149</td>\n",
       "      <td>14860</td>\n",
       "      <td>Chr1</td>\n",
       "    </tr>\n",
       "    <tr>\n",
       "      <th>4185</th>\n",
       "      <td>ENSG0000004186</td>\n",
       "      <td>-3.231756</td>\n",
       "      <td>0.0344</td>\n",
       "      <td>41977</td>\n",
       "      <td>Chr1</td>\n",
       "    </tr>\n",
       "    <tr>\n",
       "      <th>4486</th>\n",
       "      <td>ENSG0000004487</td>\n",
       "      <td>-2.555045</td>\n",
       "      <td>0.0097</td>\n",
       "      <td>37440</td>\n",
       "      <td>Chr1</td>\n",
       "    </tr>\n",
       "    <tr>\n",
       "      <th>...</th>\n",
       "      <td>...</td>\n",
       "      <td>...</td>\n",
       "      <td>...</td>\n",
       "      <td>...</td>\n",
       "      <td>...</td>\n",
       "    </tr>\n",
       "    <tr>\n",
       "      <th>28866</th>\n",
       "      <td>ENSG0000028867</td>\n",
       "      <td>-0.624954</td>\n",
       "      <td>0.0307</td>\n",
       "      <td>21040</td>\n",
       "      <td>Chr1</td>\n",
       "    </tr>\n",
       "    <tr>\n",
       "      <th>29013</th>\n",
       "      <td>ENSG0000029014</td>\n",
       "      <td>-2.991018</td>\n",
       "      <td>0.0191</td>\n",
       "      <td>10400</td>\n",
       "      <td>Chr1</td>\n",
       "    </tr>\n",
       "    <tr>\n",
       "      <th>29214</th>\n",
       "      <td>ENSG0000029215</td>\n",
       "      <td>3.252351</td>\n",
       "      <td>0.0388</td>\n",
       "      <td>16158</td>\n",
       "      <td>Chr1</td>\n",
       "    </tr>\n",
       "    <tr>\n",
       "      <th>29650</th>\n",
       "      <td>ENSG0000029651</td>\n",
       "      <td>-1.456271</td>\n",
       "      <td>0.0228</td>\n",
       "      <td>45705</td>\n",
       "      <td>Chr1</td>\n",
       "    </tr>\n",
       "    <tr>\n",
       "      <th>29750</th>\n",
       "      <td>ENSG0000029751</td>\n",
       "      <td>0.209801</td>\n",
       "      <td>0.0292</td>\n",
       "      <td>7820</td>\n",
       "      <td>Chr1</td>\n",
       "    </tr>\n",
       "  </tbody>\n",
       "</table>\n",
       "<p>69 rows × 5 columns</p>\n",
       "</div>"
      ],
      "text/plain": [
       "      ENSEMBL_Gene_ID  fold_change  adjusted_p_value  gene_length chromosome\n",
       "1309   ENSG0000001310     0.115136            0.0306        37390       Chr1\n",
       "3007   ENSG0000003008    -0.769307            0.0058        45340       Chr1\n",
       "3858   ENSG0000003859     2.683529            0.0149        14860       Chr1\n",
       "4185   ENSG0000004186    -3.231756            0.0344        41977       Chr1\n",
       "4486   ENSG0000004487    -2.555045            0.0097        37440       Chr1\n",
       "...               ...          ...               ...          ...        ...\n",
       "28866  ENSG0000028867    -0.624954            0.0307        21040       Chr1\n",
       "29013  ENSG0000029014    -2.991018            0.0191        10400       Chr1\n",
       "29214  ENSG0000029215     3.252351            0.0388        16158       Chr1\n",
       "29650  ENSG0000029651    -1.456271            0.0228        45705       Chr1\n",
       "29750  ENSG0000029751     0.209801            0.0292         7820       Chr1\n",
       "\n",
       "[69 rows x 5 columns]"
      ]
     },
     "execution_count": 24,
     "metadata": {},
     "output_type": "execute_result"
    }
   ],
   "source": [
    "express_sign_chr1"
   ]
  },
  {
   "cell_type": "code",
   "execution_count": 27,
   "id": "c38539f1",
   "metadata": {},
   "outputs": [],
   "source": [
    "# exer gene longer then 1000 shorter 5000 that are located on chr 2"
   ]
  },
  {
   "cell_type": "code",
   "execution_count": 32,
   "id": "53af950e",
   "metadata": {},
   "outputs": [],
   "source": [
    "exec_result = expression_df [ (expression_df[\"gene_length\"] >1000) \n",
    "                             & (expression_df[\"gene_length\"] <5000)\n",
    "                             & (expression_df[\"chromosome\"] == \"Chr2\")]"
   ]
  },
  {
   "cell_type": "code",
   "execution_count": 33,
   "id": "c2172372",
   "metadata": {},
   "outputs": [
    {
     "data": {
      "text/html": [
       "<div>\n",
       "<style scoped>\n",
       "    .dataframe tbody tr th:only-of-type {\n",
       "        vertical-align: middle;\n",
       "    }\n",
       "\n",
       "    .dataframe tbody tr th {\n",
       "        vertical-align: top;\n",
       "    }\n",
       "\n",
       "    .dataframe thead th {\n",
       "        text-align: right;\n",
       "    }\n",
       "</style>\n",
       "<table border=\"1\" class=\"dataframe\">\n",
       "  <thead>\n",
       "    <tr style=\"text-align: right;\">\n",
       "      <th></th>\n",
       "      <th>ENSEMBL_Gene_ID</th>\n",
       "      <th>fold_change</th>\n",
       "      <th>adjusted_p_value</th>\n",
       "      <th>gene_length</th>\n",
       "      <th>chromosome</th>\n",
       "    </tr>\n",
       "  </thead>\n",
       "  <tbody>\n",
       "    <tr>\n",
       "      <th>61</th>\n",
       "      <td>ENSG0000000062</td>\n",
       "      <td>1.223646</td>\n",
       "      <td>0.6113</td>\n",
       "      <td>3404</td>\n",
       "      <td>Chr2</td>\n",
       "    </tr>\n",
       "    <tr>\n",
       "      <th>259</th>\n",
       "      <td>ENSG0000000260</td>\n",
       "      <td>0.720266</td>\n",
       "      <td>0.0472</td>\n",
       "      <td>3170</td>\n",
       "      <td>Chr2</td>\n",
       "    </tr>\n",
       "    <tr>\n",
       "      <th>439</th>\n",
       "      <td>ENSG0000000440</td>\n",
       "      <td>2.748306</td>\n",
       "      <td>0.4734</td>\n",
       "      <td>1166</td>\n",
       "      <td>Chr2</td>\n",
       "    </tr>\n",
       "    <tr>\n",
       "      <th>484</th>\n",
       "      <td>ENSG0000000485</td>\n",
       "      <td>-5.376688</td>\n",
       "      <td>0.8358</td>\n",
       "      <td>1043</td>\n",
       "      <td>Chr2</td>\n",
       "    </tr>\n",
       "    <tr>\n",
       "      <th>562</th>\n",
       "      <td>ENSG0000000563</td>\n",
       "      <td>5.006591</td>\n",
       "      <td>0.0500</td>\n",
       "      <td>2687</td>\n",
       "      <td>Chr2</td>\n",
       "    </tr>\n",
       "    <tr>\n",
       "      <th>...</th>\n",
       "      <td>...</td>\n",
       "      <td>...</td>\n",
       "      <td>...</td>\n",
       "      <td>...</td>\n",
       "      <td>...</td>\n",
       "    </tr>\n",
       "    <tr>\n",
       "      <th>28417</th>\n",
       "      <td>ENSG0000028418</td>\n",
       "      <td>-2.711691</td>\n",
       "      <td>0.1427</td>\n",
       "      <td>2392</td>\n",
       "      <td>Chr2</td>\n",
       "    </tr>\n",
       "    <tr>\n",
       "      <th>28474</th>\n",
       "      <td>ENSG0000028475</td>\n",
       "      <td>-5.409045</td>\n",
       "      <td>0.9631</td>\n",
       "      <td>4839</td>\n",
       "      <td>Chr2</td>\n",
       "    </tr>\n",
       "    <tr>\n",
       "      <th>29289</th>\n",
       "      <td>ENSG0000029290</td>\n",
       "      <td>-3.616705</td>\n",
       "      <td>0.9192</td>\n",
       "      <td>1006</td>\n",
       "      <td>Chr2</td>\n",
       "    </tr>\n",
       "    <tr>\n",
       "      <th>29455</th>\n",
       "      <td>ENSG0000029456</td>\n",
       "      <td>-5.486853</td>\n",
       "      <td>0.3031</td>\n",
       "      <td>4584</td>\n",
       "      <td>Chr2</td>\n",
       "    </tr>\n",
       "    <tr>\n",
       "      <th>29653</th>\n",
       "      <td>ENSG0000029654</td>\n",
       "      <td>2.107318</td>\n",
       "      <td>0.6816</td>\n",
       "      <td>1297</td>\n",
       "      <td>Chr2</td>\n",
       "    </tr>\n",
       "  </tbody>\n",
       "</table>\n",
       "<p>90 rows × 5 columns</p>\n",
       "</div>"
      ],
      "text/plain": [
       "      ENSEMBL_Gene_ID  fold_change  adjusted_p_value  gene_length chromosome\n",
       "61     ENSG0000000062     1.223646            0.6113         3404       Chr2\n",
       "259    ENSG0000000260     0.720266            0.0472         3170       Chr2\n",
       "439    ENSG0000000440     2.748306            0.4734         1166       Chr2\n",
       "484    ENSG0000000485    -5.376688            0.8358         1043       Chr2\n",
       "562    ENSG0000000563     5.006591            0.0500         2687       Chr2\n",
       "...               ...          ...               ...          ...        ...\n",
       "28417  ENSG0000028418    -2.711691            0.1427         2392       Chr2\n",
       "28474  ENSG0000028475    -5.409045            0.9631         4839       Chr2\n",
       "29289  ENSG0000029290    -3.616705            0.9192         1006       Chr2\n",
       "29455  ENSG0000029456    -5.486853            0.3031         4584       Chr2\n",
       "29653  ENSG0000029654     2.107318            0.6816         1297       Chr2\n",
       "\n",
       "[90 rows x 5 columns]"
      ]
     },
     "execution_count": 33,
     "metadata": {},
     "output_type": "execute_result"
    }
   ],
   "source": [
    "exec_result"
   ]
  },
  {
   "cell_type": "code",
   "execution_count": 34,
   "id": "c337d385",
   "metadata": {},
   "outputs": [
    {
     "data": {
      "text/plain": [
       "<AxesSubplot:>"
      ]
     },
     "execution_count": 34,
     "metadata": {},
     "output_type": "execute_result"
    },
    {
     "data": {
      "image/png": "[encoded data removed]",
      "text/plain": [
       "<Figure size 432x288 with 1 Axes>"
      ]
     },
     "metadata": {
      "needs_background": "light"
     },
     "output_type": "display_data"
    }
   ],
   "source": [
    "expression_df[\"fold_change\"].hist()"
   ]
  },
  {
   "cell_type": "code",
   "execution_count": 35,
   "id": "1fcf6c50",
   "metadata": {},
   "outputs": [
    {
     "data": {
      "text/plain": [
       "<AxesSubplot:>"
      ]
     },
     "execution_count": 35,
     "metadata": {},
     "output_type": "execute_result"
    },
    {
     "data": {
      "image/png": "[encoded data removed]",
      "text/plain": [
       "<Figure size 432x288 with 1 Axes>"
      ]
     },
     "metadata": {
      "needs_background": "light"
     },
     "output_type": "display_data"
    }
   ],
   "source": [
    "expression_df[\"fold_change\"].hist(bins=20)"
   ]
  },
  {
   "cell_type": "code",
   "execution_count": 36,
   "id": "e1e85179",
   "metadata": {},
   "outputs": [
    {
     "data": {
      "text/plain": [
       "<AxesSubplot:>"
      ]
     },
     "execution_count": 36,
     "metadata": {},
     "output_type": "execute_result"
    },
    {
     "data": {
      "image/png": "[encoded data removed]",
      "text/plain": [
       "<Figure size 432x288 with 1 Axes>"
      ]
     },
     "metadata": {
      "needs_background": "light"
     },
     "output_type": "display_data"
    }
   ],
   "source": [
    "expression_df[\"fold_change\"].hist(bins=20, color=\"pink\")"
   ]
  },
  {
   "cell_type": "code",
   "execution_count": 42,
   "id": "a9436e4e",
   "metadata": {},
   "outputs": [
    {
     "data": {
      "text/plain": [
       "<AxesSubplot:>"
      ]
     },
     "execution_count": 42,
     "metadata": {},
     "output_type": "execute_result"
    },
    {
     "data": {
      "image/png": "[encoded data removed]",
      "text/plain": [
       "<Figure size 432x288 with 1 Axes>"
      ]
     },
     "metadata": {
      "needs_background": "light"
     },
     "output_type": "display_data"
    }
   ],
   "source": [
    "expression_df[\"gene_length\"].hist(bins=20, color=\"teal\")"
   ]
  },
  {
   "cell_type": "code",
   "execution_count": 49,
   "id": "de41baf6",
   "metadata": {},
   "outputs": [
    {
     "data": {
      "image/png": "[encoded data removed]",
      "text/plain": [
       "<Figure size 432x288 with 1 Axes>"
      ]
     },
     "metadata": {
      "needs_background": "light"
     },
     "output_type": "display_data"
    }
   ],
   "source": [
    "ax = expression_df[\"gene_length\"].hist(bins=20, color=\"#AA0000\")"
   ]
  },
  {
   "cell_type": "code",
   "execution_count": 50,
   "id": "78be055c",
   "metadata": {},
   "outputs": [],
   "source": [
    "fig = ax.get_figure()"
   ]
  },
  {
   "cell_type": "code",
   "execution_count": 51,
   "id": "060c2109",
   "metadata": {},
   "outputs": [],
   "source": [
    "fig.savefig(\"hist.pdf\")"
   ]
  },
  {
   "cell_type": "code",
   "execution_count": null,
   "id": "83271d25",
   "metadata": {},
   "outputs": [],
   "source": []
  }
 ],
 "metadata": {
  "kernelspec": {
   "display_name": "Python 3",
   "language": "python",
   "name": "python3"
  },
  "language_info": {
   "codemirror_mode": {
    "name": "ipython",
    "version": 3
   },
   "file_extension": ".py",
   "mimetype": "text/x-python",
   "name": "python",
   "nbconvert_exporter": "python",
   "pygments_lexer": "ipython3",
   "version": "3.8.8"
  }
 },
 "nbformat": 4,
 "nbformat_minor": 5
}
